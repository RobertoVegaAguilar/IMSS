{
 "cells": [
  {
   "cell_type": "code",
   "execution_count": 1,
   "id": "e4607113",
   "metadata": {},
   "outputs": [],
   "source": [
    "import pandas as pd\n",
    "import numpy as np"
   ]
  },
  {
   "cell_type": "code",
   "execution_count": null,
   "id": "c0f2b3fb",
   "metadata": {},
   "outputs": [],
   "source": [
    "## Función para dividir datos en 10 principales sectores\n",
    "\n",
    "def guardar_por_sector(df):\n",
    "    for i in range(10):\n",
    "        df_sector = df[df['sector_economico_1'] == i]\n",
    "        filename = f'sector_{i}_data.csv'\n",
    "        df_sector.to_csv(filename, index=False)\n",
    "        print(f'Se ha guardado el DataFrame del sector {i} en {filename}')"
   ]
  },
  {
   "cell_type": "code",
   "execution_count": null,
   "id": "c456b8db",
   "metadata": {},
   "outputs": [],
   "source": [
    "## Función para dividir datos sector 2 (utiliza los 10 anteriores)\n",
    "import pandas as pd\n",
    "\n",
    "def procesar_archivos(cantidad_archivos):\n",
    "    for i in range(cantidad_archivos):\n",
    "        file_name = f'sector_{i}_data.csv'\n",
    "        try:\n",
    "            df = pd.read_csv(file_name)\n",
    "            unique_values = df['sector_economico_2'].unique()\n",
    "            for value in unique_values:\n",
    "                df_grouped = df[df['sector_economico_2'] == value]\n",
    "                df_grouped.to_csv(f'grupo_{value}_sector_{i}.csv', index=False)\n",
    "                print(f\"Se ha guardado el grupo {value} del sector {i} en un archivo CSV.\")\n",
    "        except FileNotFoundError:\n",
    "            print(f\"No se pudo encontrar el archivo {file_name}.\")\n",
    "\n",
    "\n",
    "procesar_archivos(10)"
   ]
  }
 ],
 "metadata": {
  "kernelspec": {
   "display_name": "Python 3 (ipykernel)",
   "language": "python",
   "name": "python3"
  },
  "language_info": {
   "codemirror_mode": {
    "name": "ipython",
    "version": 3
   },
   "file_extension": ".py",
   "mimetype": "text/x-python",
   "name": "python",
   "nbconvert_exporter": "python",
   "pygments_lexer": "ipython3",
   "version": "3.9.12"
  }
 },
 "nbformat": 4,
 "nbformat_minor": 5
}
